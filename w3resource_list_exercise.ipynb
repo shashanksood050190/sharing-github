{
 "cells": [
  {
   "cell_type": "code",
   "execution_count": 1,
   "metadata": {},
   "outputs": [
    {
     "name": "stdout",
     "output_type": "stream",
     "text": [
      "-5\n"
     ]
    }
   ],
   "source": [
    "#To find sum of all elements in a list\n",
    "def sum_list(items):\n",
    "    sum=0\n",
    "    for i in items:\n",
    "        sum=sum+i\n",
    "    return sum\n",
    "print(sum_list([1,2,-8]))"
   ]
  },
  {
   "cell_type": "code",
   "execution_count": 6,
   "metadata": {},
   "outputs": [
    {
     "name": "stdout",
     "output_type": "stream",
     "text": [
      "2\n"
     ]
    }
   ],
   "source": [
    "# To find the maximum number in a list.\n",
    "\n",
    "def max_num_list(list):\n",
    "    max=list[0]\n",
    "    for a in list:\n",
    "        if a > max:\n",
    "            max=a\n",
    "    return max\n",
    "\n",
    "print (max_num_list([1,2,-8,0]))\n"
   ]
  },
  {
   "cell_type": "code",
   "execution_count": 7,
   "metadata": {},
   "outputs": [
    {
     "name": "stdout",
     "output_type": "stream",
     "text": [
      "-8\n"
     ]
    }
   ],
   "source": [
    "# To find minimum number in a list.\n",
    "\n",
    "def min_num_list(list):\n",
    "    min=list[0]\n",
    "    for a in list:\n",
    "        if a < min:\n",
    "            min=a\n",
    "    return min\n",
    "print (min_num_list([1,2,-8,0]))"
   ]
  },
  {
   "cell_type": "code",
   "execution_count": 8,
   "metadata": {},
   "outputs": [
    {
     "name": "stdout",
     "output_type": "stream",
     "text": [
      "2\n"
     ]
    }
   ],
   "source": [
    "#Count the number of strings where first character and last character are same.\n",
    "\n",
    "def match_words(words):\n",
    "    ctr=0\n",
    "    for word in words:\n",
    "        if len(word)>1 and word[0]==word[-1]:\n",
    "            ctr=ctr+1\n",
    "    return ctr\n",
    "print(match_words(['abc', 'xyz', 'aba', '1221']))"
   ]
  },
  {
   "cell_type": "code",
   "execution_count": 10,
   "metadata": {},
   "outputs": [
    {
     "name": "stdout",
     "output_type": "stream",
     "text": [
      "[(2, 1), (1, 2), (2, 3), (4, 4), (2, 5)]\n"
     ]
    }
   ],
   "source": [
    "# To get a list sorted in increasing order by last element in each tuple.\n",
    "def last(n):\n",
    "    return n[-1]\n",
    "def tup_list_sort(tuples):\n",
    "    return sorted(tuples,key=last)\n",
    "print(tup_list_sort([(2, 5), (1, 2), (4, 4), (2, 3), (2, 1)]))"
   ]
  },
  {
   "cell_type": "code",
   "execution_count": 11,
   "metadata": {},
   "outputs": [
    {
     "name": "stdout",
     "output_type": "stream",
     "text": [
      "[2, 4, 10, 20, 5]\n"
     ]
    }
   ],
   "source": [
    "# To remove duplicates from the list.\n",
    "\n",
    "def remove(duplicate):\n",
    "    final_list=[]\n",
    "    for x in duplicate:\n",
    "        if x not in final_list:\n",
    "            final_list.append(x)\n",
    "    return final_list\n",
    "print(remove([2, 4, 10, 20, 5, 2, 20, 4]))\n",
    "    "
   ]
  },
  {
   "cell_type": "code",
   "execution_count": 13,
   "metadata": {},
   "outputs": [
    {
     "name": "stdout",
     "output_type": "stream",
     "text": [
      "List is empty\n"
     ]
    }
   ],
   "source": [
    "# To check whether a list is empty or not.\n",
    "\n",
    "l=[]\n",
    "if not l:\n",
    "    print('List is empty')"
   ]
  },
  {
   "cell_type": "code",
   "execution_count": 14,
   "metadata": {},
   "outputs": [
    {
     "name": "stdout",
     "output_type": "stream",
     "text": [
      "['quick', 'brown', 'jumps', 'over', 'lazy']\n"
     ]
    }
   ],
   "source": [
    "# To find list of words that are longer than n from given list of words\n",
    "\n",
    "def length(n, words):\n",
    "    word_len=[]\n",
    "    txt=words.split(\" \")\n",
    "    for x in txt:\n",
    "        if len(x)>n:\n",
    "            word_len.append(x)\n",
    "    return word_len\n",
    "print(length(3, \"The quick brown fox jumps over the lazy dog\"))"
   ]
  },
  {
   "cell_type": "code",
   "execution_count": 17,
   "metadata": {},
   "outputs": [
    {
     "name": "stdout",
     "output_type": "stream",
     "text": [
      "True\n"
     ]
    }
   ],
   "source": [
    "# To return true if common elements are present in the list.\n",
    "\n",
    "def common_list(list1,list2):\n",
    "    result=False\n",
    "    for x in list1:\n",
    "        for y in list2:\n",
    "            if x==y:\n",
    "                result=True\n",
    "                return result\n",
    "print(common_list([1,2,3,4,5], [5,6,7,8,9]))\n"
   ]
  },
  {
   "cell_type": "code",
   "execution_count": 18,
   "metadata": {},
   "outputs": [
    {
     "name": "stdout",
     "output_type": "stream",
     "text": [
      "['Green', 'White', 'Black']\n"
     ]
    }
   ],
   "source": [
    "# To remove elements from the list for index 0,4,5.\n",
    "color = ['Red', 'Green', 'White', 'Black', 'Pink', 'Yellow']\n",
    "color=[x for (i,x) in enumerate(color)if i not in (0,4,5)]\n",
    "print(color)"
   ]
  },
  {
   "cell_type": "code",
   "execution_count": 19,
   "metadata": {},
   "outputs": [
    {
     "name": "stdout",
     "output_type": "stream",
     "text": [
      "[7, 25, 27]\n"
     ]
    }
   ],
   "source": [
    "# To remove even numbers from the list.\n",
    "num = [7,8, 120, 25, 44, 20, 27]\n",
    "num=[x for x in num if x%2!=0]\n",
    "print(num)"
   ]
  },
  {
   "cell_type": "code",
   "execution_count": 20,
   "metadata": {},
   "outputs": [
    {
     "name": "stdout",
     "output_type": "stream",
     "text": [
      "[1, 4, 9, 16, 25]\n",
      "[1, 4, 9, 16, 25, 36, 49, 64, 81, 100, 121, 144, 169, 196, 225]\n"
     ]
    }
   ],
   "source": [
    "# To print square of first five and last five elements in a list.\n",
    "\n",
    "def printValues():\n",
    "    l=list()\n",
    "    for i in range(1,21):\n",
    "        l.append(i**2)\n",
    "    print(l[:5])\n",
    "    print(l[:-5])\n",
    "printValues()"
   ]
  },
  {
   "cell_type": "code",
   "execution_count": 21,
   "metadata": {},
   "outputs": [
    {
     "name": "stdout",
     "output_type": "stream",
     "text": [
      "[3, 4]\n"
     ]
    }
   ],
   "source": [
    "# To find difference between two lists.\n",
    "list1=[1,2,3,4]\n",
    "list2=[1,2]\n",
    "\n",
    "print(list(set(list1)-set(list2)))"
   ]
  },
  {
   "cell_type": "code",
   "execution_count": 22,
   "metadata": {},
   "outputs": [
    {
     "name": "stdout",
     "output_type": "stream",
     "text": [
      "0 5\n",
      "1 15\n",
      "2 35\n",
      "3 8\n",
      "4 98\n"
     ]
    }
   ],
   "source": [
    "# To access the index using the list.\n",
    "nums=[5, 15, 35, 8, 98]\n",
    "for num_index, num_val in enumerate(nums):\n",
    "    print(num_index,num_val)"
   ]
  },
  {
   "cell_type": "code",
   "execution_count": 25,
   "metadata": {},
   "outputs": [
    {
     "name": "stdout",
     "output_type": "stream",
     "text": [
      "123\n"
     ]
    }
   ],
   "source": [
    "# Function to convert list of integers into a single integer.\n",
    "\n",
    "def convert_list(list):\n",
    "    s=[str(i) for i in list]\n",
    "    res= int(\"\".join(s))\n",
    "    return (res)\n",
    "print (convert_list([1,2,3]))\n"
   ]
  },
  {
   "cell_type": "code",
   "execution_count": 28,
   "metadata": {},
   "outputs": [
    {
     "name": "stdout",
     "output_type": "stream",
     "text": [
      "[1, 2, 3, 'Red', 'Yellow', 'Green']\n"
     ]
    }
   ],
   "source": [
    "# To concatenate one list with other.\n",
    "\n",
    "list1=[1,2,3]\n",
    "list2=['Red','Yellow','Green']\n",
    "final_list=list1+list2\n",
    "print(final_list)\n"
   ]
  },
  {
   "cell_type": "code",
   "execution_count": 29,
   "metadata": {},
   "outputs": [
    {
     "name": "stdout",
     "output_type": "stream",
     "text": [
      "[['s', 'a', 't'], ['b', 'a', 't'], ['c', 'a', 't'], ['m', 'a', 't']]\n"
     ]
    }
   ],
   "source": [
    "# To listify the list of strings seperately.\n",
    "\n",
    "l=['sat', 'bat', 'cat', 'mat']\n",
    "test=list(map(list,l))\n",
    "print(test)\n"
   ]
  },
  {
   "cell_type": "code",
   "execution_count": 30,
   "metadata": {},
   "outputs": [
    {
     "name": "stdout",
     "output_type": "stream",
     "text": [
      "Largest element is: 45\n",
      "Second Largest element is: 41\n",
      "Smallest element is: 2\n",
      "Second smallest element is: 4\n"
     ]
    }
   ],
   "source": [
    "# Python | Largest, Smallest, Second Largest, Second Smallest in a List\n",
    "\n",
    "def find_len(list1):\n",
    "    length=len(list1)\n",
    "    list1.sort()\n",
    "    print(\"Largest element is:\",list1[length-1])\n",
    "    print(\"Second Largest element is:\",list1[length-2])\n",
    "    print(\"Smallest element is:\",list1[0])\n",
    "    print(\"Second smallest element is:\",list1[1])\n",
    "\n",
    "list1=[12, 45, 2, 41, 31, 10, 8, 6, 4]\n",
    "Largest=find_len(list1)\n",
    "\n",
    "\n"
   ]
  },
  {
   "cell_type": "code",
   "execution_count": 31,
   "metadata": {},
   "outputs": [
    {
     "name": "stdout",
     "output_type": "stream",
     "text": [
      "[40, 10, 50, 20, 60, 30]\n"
     ]
    }
   ],
   "source": [
    "# To find unique elements in the list.\n",
    "\n",
    "my_list = [10, 20, 30, 40, 20, 50, 60, 40]\n",
    "my_set=set(my_list)\n",
    "my_new_list=list(my_set)\n",
    "print(my_new_list)"
   ]
  },
  {
   "cell_type": "code",
   "execution_count": 33,
   "metadata": {},
   "outputs": [
    {
     "name": "stdout",
     "output_type": "stream",
     "text": [
      "Original list is: [10, 10, 10, 10, 20, 20, 20, 20, 40, 40, 50, 50, 30]\n",
      "Frequency of element is: Counter({10: 4, 20: 4, 40: 2, 50: 2, 30: 1})\n"
     ]
    }
   ],
   "source": [
    "# To get frequency of elements in the list.\n",
    "\n",
    "import collections\n",
    "my_list = [10,10,10,10,20,20,20,20,40,40,50,50,30]\n",
    "print(\"Original list is:\",my_list)\n",
    "ctr=collections.Counter(my_list)\n",
    "print(\"Frequency of element is:\",ctr)\n",
    "\n"
   ]
  },
  {
   "cell_type": "code",
   "execution_count": 37,
   "metadata": {},
   "outputs": [
    {
     "name": "stdout",
     "output_type": "stream",
     "text": [
      "5\n"
     ]
    }
   ],
   "source": [
    "# To count the number of elements in the list.\n",
    "\n",
    "def count_range_list(li, min, max):\n",
    "    ctr=0\n",
    "    for x in li:\n",
    "        if min<=x<=max:\n",
    "            ctr+=1\n",
    "    return ctr\n",
    "\n",
    "list1 = [10,20,30,40,40,40,70,80,99]\n",
    "print(count_range_list(list1,40,80))\n",
    "    "
   ]
  },
  {
   "cell_type": "code",
   "execution_count": 41,
   "metadata": {},
   "outputs": [
    {
     "name": "stdout",
     "output_type": "stream",
     "text": [
      "Original List:[9, 4, 5, 8, 10]\n",
      "Original sublist:[10, 5]\n",
      "True\n"
     ]
    }
   ],
   "source": [
    "#To check whether list contains a sublist\n",
    "\n",
    "test_list = [9, 4, 5, 8, 10] \n",
    "sub_list = [10, 5] \n",
    "\n",
    "print(\"Original List:\" + str(test_list))\n",
    "print(\"Original sublist:\" + str(sub_list))\n",
    "\n",
    "flag=0\n",
    "\n",
    "if (set(sub_list).issubset(set(test_list))):\n",
    "    flag=1\n",
    "if(flag):\n",
    "    print(\"True\")\n",
    "else:\n",
    "    print(\"False\")"
   ]
  },
  {
   "cell_type": "code",
   "execution_count": 45,
   "metadata": {},
   "outputs": [
    {
     "name": "stdout",
     "output_type": "stream",
     "text": [
      "Original list:\n",
      "[10, 20, 30, 40]\n",
      "S\n",
      "[[], [10], [20], [30], [40], [10, 20], [10, 30], [10, 40], [20, 30], [20, 40], [30, 40], [10, 20, 30], [10, 20, 40], [10, 30, 40], [20, 30, 40], [10, 20, 30, 40]]\n",
      "Sublists of the said list:\n",
      "[[], [10], [20], [30], [40], [10, 20], [10, 30], [10, 40], [20, 30], [20, 40], [30, 40], [10, 20, 30], [10, 20, 40], [10, 30, 40], [20, 30, 40], [10, 20, 30, 40]]\n",
      "\n",
      "Original list:\n",
      "['X', 'Y', 'Z']\n",
      "Sublists of the said list:\n",
      "[[], ['X'], ['Y'], ['Z'], ['X', 'Y'], ['X', 'Z'], ['Y', 'Z'], ['X', 'Y', 'Z']]\n"
     ]
    }
   ],
   "source": [
    "# To generate all subsets of a list.\n",
    "\n",
    "from itertools import combinations\n",
    "def sub_list(my_list):\n",
    "    subs=[]\n",
    "    for i in range(0,len(my_list)+1):\n",
    "        temp=[list(x) for x in combinations(my_list,i)]\n",
    "        if len(temp)>0:\n",
    "            subs.extend(temp)\n",
    "    return subs\n",
    "l1 = [10, 20, 30, 40]\n",
    "l2 = ['X', 'Y', 'Z']\n",
    "print(\"Original list:\")\n",
    "print(l1)\n",
    "print(\"S\")\n",
    "print(sub_list(l1))\n",
    "print(\"Sublists of the said list:\")\n",
    "print(sub_list(l1))\n",
    "print(\"\\nOriginal list:\")\n",
    "print(l2)\n",
    "print(\"Sublists of the said list:\")\n",
    "print(sub_list(l2))"
   ]
  },
  {
   "cell_type": "code",
   "execution_count": 46,
   "metadata": {},
   "outputs": [
    {
     "name": "stdout",
     "output_type": "stream",
     "text": [
      "['p1', 'q1', 'p2', 'q2', 'p3', 'q3', 'p4', 'q4']\n"
     ]
    }
   ],
   "source": [
    "my_list=['p','q']\n",
    "n=4\n",
    "new_list=['{}{}'.format(x,y) for y in range(1,n+1) for x in my_list]\n",
    "print(new_list)\n"
   ]
  },
  {
   "cell_type": "code",
   "execution_count": 48,
   "metadata": {},
   "outputs": [
    {
     "name": "stdout",
     "output_type": "stream",
     "text": [
      "113350\n"
     ]
    }
   ],
   "source": [
    "# To convert list of multiple integers into a single integer\n",
    "L=[11,33,50]\n",
    "x=int(\"\".join(map(str,L)))\n",
    "print(x)"
   ]
  },
  {
   "cell_type": "code",
   "execution_count": 57,
   "metadata": {},
   "outputs": [
    {
     "name": "stdout",
     "output_type": "stream",
     "text": [
      "a\n",
      "ask\n",
      "b\n",
      "be\n",
      "c\n",
      "call\n",
      "come\n",
      "d\n",
      "do\n",
      "f\n",
      "feel\n",
      "find\n",
      "g\n",
      "get\n",
      "give\n",
      "go\n",
      "h\n",
      "have\n",
      "k\n",
      "know\n",
      "l\n",
      "leave\n",
      "look\n",
      "m\n",
      "make\n",
      "s\n",
      "say\n",
      "see\n",
      "seem\n",
      "t\n",
      "take\n",
      "tell\n",
      "think\n",
      "u\n",
      "use\n",
      "w\n",
      "want\n",
      "work\n"
     ]
    }
   ],
   "source": [
    "# Split a list based on first character of word\n",
    "\n",
    "from itertools import groupby\n",
    "from operator import itemgetter\n",
    "word_list = ['be','have','do','say','get','make','go','know','take','see','come','think',\n",
    "     'look','want','give','use','find','tell','ask','work','seem','feel','leave','call']\n",
    "\n",
    "for letter ,word in groupby(sorted(word_list),key=itemgetter(0)):\n",
    "    print(letter)\n",
    "    for w in word:\n",
    "        print(w)"
   ]
  },
  {
   "cell_type": "code",
   "execution_count": 58,
   "metadata": {},
   "outputs": [
    {
     "name": "stdout",
     "output_type": "stream",
     "text": [
      "{'1': [], '2': [], '3': [], '4': [], '5': [], '6': [], '7': [], '8': [], '9': [], '10': [], '11': [], '12': [], '13': [], '14': [], '15': [], '16': [], '17': [], '18': [], '19': [], '20': []}\n"
     ]
    }
   ],
   "source": [
    "# Python program to create multiple lists.\n",
    "\n",
    "obj={}\n",
    "\n",
    "for i in range(1,21):\n",
    "    obj[str(i)]=[]\n",
    "print(obj)\n"
   ]
  },
  {
   "cell_type": "code",
   "execution_count": 61,
   "metadata": {},
   "outputs": [
    {
     "name": "stdout",
     "output_type": "stream",
     "text": [
      "Missing values in second list:  a,c,b\n",
      "Additional values in second list: h,g\n"
     ]
    }
   ],
   "source": [
    "# Find missing and additional value in list\n",
    "\n",
    "list1 = ['a','b','c','d','e','f']\n",
    "list2 = ['d','e','f','g','h']\n",
    "\n",
    "print('Missing values in second list: ',','.join(set(list1).difference(list2)))\n",
    "print('Additional values in second list:',','.join(set(list2).difference(list1)))"
   ]
  },
  {
   "cell_type": "code",
   "execution_count": 64,
   "metadata": {},
   "outputs": [
    {
     "name": "stdout",
     "output_type": "stream",
     "text": [
      "[[1, 2, 3, 4, 5], [6, 7, 8, 9, 10], [11, 12, 13, 14, 15], [16, 17, 18, 19, 20], [21, 22, 23, 24, 25]]\n"
     ]
    }
   ],
   "source": [
    "l=[[5*i + j for j in range(1,6)] for i in range(5)]\n",
    "print(l)"
   ]
  },
  {
   "cell_type": "code",
   "execution_count": 2,
   "metadata": {},
   "outputs": [
    {
     "name": "stdout",
     "output_type": "stream",
     "text": [
      "Original List: [(1, 2), (3, 4), (1, 2), (5, 6), (7, 8), (1, 2), (3, 4), (3, 4), (7, 8), (9, 10)]\n",
      "Sorted Unique Data: [1, 2, 3, 4, 5, 6, 7, 8, 9, 10]\n"
     ]
    }
   ],
   "source": [
    "# To convert pair of values into sorted unique array\n",
    "\n",
    "L = [(1, 2), (3, 4), (1, 2), (5, 6), (7, 8), (1, 2), (3, 4), (3, 4),\n",
    " (7, 8), (9, 10)]\n",
    "\n",
    "print(\"Original List:\",L)\n",
    "print(\"Sorted Unique Data:\",sorted(set().union(*L)))\n",
    "\n"
   ]
  },
  {
   "cell_type": "code",
   "execution_count": 3,
   "metadata": {},
   "outputs": [
    {
     "data": {
      "text/plain": [
       "[1, 3, 5, 7, 9]"
      ]
     },
     "execution_count": 3,
     "metadata": {},
     "output_type": "execute_result"
    }
   ],
   "source": [
    "# To select odd items from the list.\n",
    "\n",
    "x=[1,2,3,4,5,6,7,8,9]\n",
    "x[::2]"
   ]
  },
  {
   "cell_type": "code",
   "execution_count": 6,
   "metadata": {},
   "outputs": [
    {
     "name": "stdout",
     "output_type": "stream",
     "text": [
      "Original List: ['Red', 'Green', 'Black']\n",
      "['c', 'Red', 'c', 'Green', 'c', 'Black']\n"
     ]
    }
   ],
   "source": [
    "# To insert an element before each element of a list.\n",
    "\n",
    "color=['Red','Green','Black']\n",
    "print(\"Original List:\",color)\n",
    "color=[v for elt in color for v in ('c',elt)]\n",
    "print(color)\n"
   ]
  },
  {
   "cell_type": "code",
   "execution_count": 8,
   "metadata": {},
   "outputs": [
    {
     "name": "stdout",
     "output_type": "stream",
     "text": [
      "['Red']\n",
      "['Green']\n",
      "['Black']\n"
     ]
    }
   ],
   "source": [
    "# To print nested lists on new line using print function.\n",
    "\n",
    "colors = [['Red'], ['Green'], ['Black']]\n",
    "print('\\n'.join([str(lst) for lst in colors]))\n",
    "\n"
   ]
  },
  {
   "cell_type": "code",
   "execution_count": 9,
   "metadata": {},
   "outputs": [
    {
     "name": "stdout",
     "output_type": "stream",
     "text": [
      "[{'color_name': 'Black', 'color_code': '#000000'}, {'color_name': 'Red', 'color_code': '#FF0000'}, {'color_name': 'Maroon', 'color_code': '#800000'}, {'color_name': 'Yellow', 'color_code': '#FFFF00'}]\n"
     ]
    }
   ],
   "source": [
    "# To conver a list into dictionaries.\n",
    "color_name=['Black','Red','Maroon','Yellow']\n",
    "color_code = [\"#000000\", \"#FF0000\", \"#800000\", \"#FFFF00\"]\n",
    "print([{'color_name':f,'color_code':c} for f,c in zip(color_name,color_code)])"
   ]
  },
  {
   "cell_type": "code",
   "execution_count": 10,
   "metadata": {},
   "outputs": [
    {
     "name": "stdout",
     "output_type": "stream",
     "text": [
      "[{'key': {'subkey': 10}}, {'key': {'subkey': 5}}, {'key': {'subkey': 1}}]\n"
     ]
    }
   ],
   "source": [
    "my_list = [{'key': {'subkey': 1}}, {'key': {'subkey': 10}}, {'key': {'subkey': 5}}]\n",
    "my_list.sort(key=lambda e: e['key']['subkey'],reverse=True)\n",
    "print(my_list)"
   ]
  },
  {
   "cell_type": "code",
   "execution_count": 11,
   "metadata": {},
   "outputs": [
    {
     "name": "stdout",
     "output_type": "stream",
     "text": [
      "[['a', 'd', 'g', 'j', 'm'], ['b', 'e', 'h', 'k', 'n'], ['c', 'f', 'i', 'l']]\n"
     ]
    }
   ],
   "source": [
    "# To split a list every Nth element.\n",
    "\n",
    "C=['a','b','c','d','e','f','g','h','i','j','k','l','m','n']\n",
    "\n",
    "def list_slice(S,step):\n",
    "    return[S[i::step] for i in range(step)]\n",
    "\n",
    "print(list_slice(C,3))\n",
    "    \n"
   ]
  },
  {
   "cell_type": "code",
   "execution_count": 14,
   "metadata": {},
   "outputs": [
    {
     "data": {
      "text/plain": [
       "['a', 'e', 'i', 'm']"
      ]
     },
     "execution_count": 14,
     "metadata": {},
     "output_type": "execute_result"
    }
   ],
   "source": [
    "C=['a','b','c','d','e','f','g','h','i','j','k','l','m','n']\n",
    "C[0::4]"
   ]
  },
  {
   "cell_type": "code",
   "execution_count": 16,
   "metadata": {},
   "outputs": [
    {
     "name": "stdout",
     "output_type": "stream",
     "text": [
      "Color1-Color2:  ['red', 'orange', 'white']\n",
      "Color2-Color1:  ['black', 'yellow']\n"
     ]
    }
   ],
   "source": [
    "from collections import Counter\n",
    "color1 = [\"red\", \"orange\", \"green\", \"blue\", \"white\"]\n",
    "color2 = [\"black\", \"yellow\", \"green\", \"blue\"]\n",
    "counter1=Counter(color1)\n",
    "counter2=Counter(color2)\n",
    "print(\"Color1-Color2: \",list(counter1 - counter2))\n",
    "print(\"Color2-Color1: \",list(counter2 - counter1))\n",
    "\n"
   ]
  },
  {
   "cell_type": "code",
   "execution_count": 21,
   "metadata": {},
   "outputs": [
    {
     "name": "stdout",
     "output_type": "stream",
     "text": [
      "redgreenorange\n"
     ]
    }
   ],
   "source": [
    "# Write a Python Program to concatenate two lists.\n",
    "\n",
    "color=['red','green','orange']\n",
    "print(''.join(color))\n",
    "\n"
   ]
  },
  {
   "cell_type": "code",
   "execution_count": 22,
   "metadata": {},
   "outputs": [
    {
     "name": "stdout",
     "output_type": "stream",
     "text": [
      "['Red', 'Green', 'Orange']\n"
     ]
    }
   ],
   "source": [
    "# To convert string into a list.\n",
    "\n",
    "import ast\n",
    "\n",
    "color=\"['Red','Green','Orange']\"\n",
    "print(ast.literal_eval(color))\n",
    "\n"
   ]
  },
  {
   "cell_type": "code",
   "execution_count": 24,
   "metadata": {},
   "outputs": [
    {
     "name": "stdout",
     "output_type": "stream",
     "text": [
      "False\n",
      "True\n"
     ]
    }
   ],
   "source": [
    "# To check if all items of a list is equal to given string.\n",
    "\n",
    "color1 = [\"green\", \"orange\", \"black\", \"white\"]\n",
    "color2 = [\"green\", \"green\", \"green\", \"green\"]\n",
    "\n",
    "print(all(c == 'blue' for c in color1))\n",
    "print(all(c == 'green' for c in color2))"
   ]
  },
  {
   "cell_type": "code",
   "execution_count": 30,
   "metadata": {},
   "outputs": [
    {
     "name": "stdout",
     "output_type": "stream",
     "text": [
      "[1, 3, 5, 7, 9, 2, 4, 6, 8]\n"
     ]
    }
   ],
   "source": [
    "# To replace last element of a list with another list.\n",
    "num1=[1, 3, 5, 7, 9, 10]\n",
    "num2=[2,4,6,8]\n",
    "\n",
    "num1[-1:]=num2\n",
    "print(num1)"
   ]
  },
  {
   "cell_type": "code",
   "execution_count": 35,
   "metadata": {},
   "outputs": [
    {
     "name": "stdout",
     "output_type": "stream",
     "text": [
      "6\n"
     ]
    }
   ],
   "source": [
    "# To check if nth element exists in the given list.\n",
    "\n",
    "x=[1,2,3,4,5,6]\n",
    "x_len=len(x)-1\n",
    "print(x[x_len])"
   ]
  },
  {
   "cell_type": "code",
   "execution_count": 39,
   "metadata": {},
   "outputs": [
    {
     "name": "stdout",
     "output_type": "stream",
     "text": [
      "(6, 0)\n"
     ]
    }
   ],
   "source": [
    "# To find smallest second index vale from a list of tuples.\n",
    "\n",
    "x=[(4,1),(1,2),(6,0)]\n",
    "print(min(x,key=lambda n:(n[1]-n[0])))"
   ]
  },
  {
   "cell_type": "code",
   "execution_count": 40,
   "metadata": {},
   "outputs": [
    {
     "name": "stdout",
     "output_type": "stream",
     "text": [
      "[{}, {}, {}, {}, {}]\n"
     ]
    }
   ],
   "source": [
    "# To create list of empty dictionaries.\n",
    "\n",
    "n=5\n",
    "\n",
    "l=[{} for i in range(n)]\n",
    "print(l)"
   ]
  },
  {
   "cell_type": "code",
   "execution_count": 42,
   "metadata": {},
   "outputs": [
    {
     "name": "stdout",
     "output_type": "stream",
     "text": [
      "1 2 3 4 5\n"
     ]
    }
   ],
   "source": [
    "# To print list of space seperated elements.\n",
    "\n",
    "num=[1,2,3,4,5]\n",
    "\n",
    "print(*num)"
   ]
  },
  {
   "cell_type": "code",
   "execution_count": 45,
   "metadata": {},
   "outputs": [
    {
     "name": "stdout",
     "output_type": "stream",
     "text": [
      "['emp1', 'emp2', 'emp3', 'emp4']\n"
     ]
    }
   ],
   "source": [
    "# To insert given string at begining of all items in a list.\n",
    "num=[1,2,3,4]\n",
    "print(['emp{0}'.format(i) for i in num])\n",
    "\n",
    "#num1=[v for elt in num for v in ('emp',elt)]\n",
    "#print(num1)\n"
   ]
  },
  {
   "cell_type": "code",
   "execution_count": 1,
   "metadata": {},
   "outputs": [
    {
     "name": "stdout",
     "output_type": "stream",
     "text": [
      "1 Red\n",
      "2 Green\n",
      "3 Blue\n"
     ]
    }
   ],
   "source": [
    "# To iterate over two lists simultaneously.\n",
    "\n",
    "num=[1,2,3]\n",
    "color=['Red','Green','Blue']\n",
    "\n",
    "for (a,b) in zip(num,color):\n",
    "    print(a,b)"
   ]
  },
  {
   "cell_type": "code",
   "execution_count": 5,
   "metadata": {},
   "outputs": [
    {
     "name": "stdout",
     "output_type": "stream",
     "text": [
      "physics\n"
     ]
    }
   ],
   "source": [
    "# To access dictionary key elements by index.\n",
    "num={'physics':80,'maths':60,'chemistry':90}\n",
    "print(list(num)[0])"
   ]
  },
  {
   "cell_type": "code",
   "execution_count": 7,
   "metadata": {},
   "outputs": [
    {
     "name": "stdout",
     "output_type": "stream",
     "text": [
      "33\n"
     ]
    }
   ],
   "source": [
    "# to find the list in a list of lists whose sum of elements is the highest. \n",
    "\n",
    "def maximum_sum(list1):\n",
    "    maxi=0\n",
    "    \n",
    "    for x in list1:\n",
    "        sum=0\n",
    "        for y in x:\n",
    "            sum=sum+y\n",
    "            maxi=max(sum,maxi)\n",
    "    return maxi\n",
    "list1 = [[1, 2, 3], [4, 5, 6], [10, 11, 12], [7, 8, 9]]\n",
    "print (maximum_sum(list1))\n",
    "        "
   ]
  },
  {
   "cell_type": "code",
   "execution_count": 11,
   "metadata": {},
   "outputs": [
    {
     "name": "stdout",
     "output_type": "stream",
     "text": [
      "Yes\n"
     ]
    }
   ],
   "source": [
    "# Python program to find all the values in a list are greater than a specified number.\n",
    "\n",
    "def check(list1,val):\n",
    "    for x in list1:\n",
    "        if val >= x:\n",
    "            return False\n",
    "    return True\n",
    "\n",
    "list1=[10,20,30,40]\n",
    "val=5 \n",
    "if(check(list1,val)):\n",
    "    print (\"Yes\")\n",
    "else:\n",
    "    print (\"No\")\n",
    "            "
   ]
  },
  {
   "cell_type": "code",
   "execution_count": 15,
   "metadata": {},
   "outputs": [
    {
     "name": "stdout",
     "output_type": "stream",
     "text": [
      "[40, 50, 60, 10, 20, 30]\n"
     ]
    }
   ],
   "source": [
    "# To extend a list without using append.\n",
    "x=[10,20,30]\n",
    "y=[40,50,60]\n",
    "\n",
    "x[:0]=y\n",
    "print(x)"
   ]
  },
  {
   "cell_type": "code",
   "execution_count": 24,
   "metadata": {},
   "outputs": [
    {
     "name": "stdout",
     "output_type": "stream",
     "text": [
      "[[10, 20], [30, 56, 25], [33], [40]]\n"
     ]
    }
   ],
   "source": [
    "# To remove duplicates from a list of lists.\n",
    "\n",
    "a=[[10, 20], [40], [30, 56, 25], [10, 20], [33], [40]]\n",
    "b=[[10, 20], [30, 56, 25], [33], [40]]\n",
    "b_set= set(map(tuple,a))\n",
    "b=map(list,b_set)\n",
    "b_new= list(b)\n",
    "b_new.sort()\n",
    "print(b_new)"
   ]
  },
  {
   "cell_type": "code",
   "execution_count": 25,
   "metadata": {},
   "outputs": [
    {
     "name": "stdout",
     "output_type": "stream",
     "text": [
      "True\n",
      "False\n"
     ]
    }
   ],
   "source": [
    "# to check if all dictionaries in a list are empty or not.\n",
    "\n",
    "my_list = [{},{},{}]\n",
    "my_list1 = [{1,2},{},{}]\n",
    "print(all(not d for d in my_list))\n",
    "print(all(not d for d in my_list1))"
   ]
  },
  {
   "cell_type": "code",
   "execution_count": null,
   "metadata": {},
   "outputs": [],
   "source": []
  }
 ],
 "metadata": {
  "kernelspec": {
   "display_name": "Python 3",
   "language": "python",
   "name": "python3"
  },
  "language_info": {
   "codemirror_mode": {
    "name": "ipython",
    "version": 3
   },
   "file_extension": ".py",
   "mimetype": "text/x-python",
   "name": "python",
   "nbconvert_exporter": "python",
   "pygments_lexer": "ipython3",
   "version": "3.6.4"
  }
 },
 "nbformat": 4,
 "nbformat_minor": 2
}
